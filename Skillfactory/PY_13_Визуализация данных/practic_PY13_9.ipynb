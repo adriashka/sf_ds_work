{
 "cells": [
  {
   "attachments": {},
   "cell_type": "markdown",
   "metadata": {},
   "source": [
    "### <center>Анализ данных по клиентам\n",
    "### <center>с целью найти зависимости и предотвратить\n",
    "### <center>отток клиентов в банке"
   ]
  },
  {
   "cell_type": "code",
   "execution_count": 1,
   "metadata": {},
   "outputs": [],
   "source": [
    "import matplotlib.pyplot as plt\n",
    "import seaborn as sns\n",
    "import plotly.express as px\n",
    "import pandas as pd\n",
    "import numpy as np"
   ]
  },
  {
   "cell_type": "code",
   "execution_count": 2,
   "metadata": {},
   "outputs": [
    {
     "data": {
      "text/html": [
       "<div>\n",
       "<style scoped>\n",
       "    .dataframe tbody tr th:only-of-type {\n",
       "        vertical-align: middle;\n",
       "    }\n",
       "\n",
       "    .dataframe tbody tr th {\n",
       "        vertical-align: top;\n",
       "    }\n",
       "\n",
       "    .dataframe thead th {\n",
       "        text-align: right;\n",
       "    }\n",
       "</style>\n",
       "<table border=\"1\" class=\"dataframe\">\n",
       "  <thead>\n",
       "    <tr style=\"text-align: right;\">\n",
       "      <th></th>\n",
       "      <th>RowNumber</th>\n",
       "      <th>CustomerId</th>\n",
       "      <th>Surname</th>\n",
       "      <th>CreditScore</th>\n",
       "      <th>Geography</th>\n",
       "      <th>Gender</th>\n",
       "      <th>Age</th>\n",
       "      <th>Tenure</th>\n",
       "      <th>Balance</th>\n",
       "      <th>NumOfProducts</th>\n",
       "      <th>HasCrCard</th>\n",
       "      <th>IsActiveMember</th>\n",
       "      <th>EstimatedSalary</th>\n",
       "      <th>Exited</th>\n",
       "    </tr>\n",
       "  </thead>\n",
       "  <tbody>\n",
       "    <tr>\n",
       "      <th>0</th>\n",
       "      <td>1</td>\n",
       "      <td>15634602</td>\n",
       "      <td>Hargrave</td>\n",
       "      <td>619</td>\n",
       "      <td>France</td>\n",
       "      <td>Female</td>\n",
       "      <td>42</td>\n",
       "      <td>2</td>\n",
       "      <td>0.00</td>\n",
       "      <td>1</td>\n",
       "      <td>1</td>\n",
       "      <td>1</td>\n",
       "      <td>101348.88</td>\n",
       "      <td>1</td>\n",
       "    </tr>\n",
       "    <tr>\n",
       "      <th>1</th>\n",
       "      <td>2</td>\n",
       "      <td>15647311</td>\n",
       "      <td>Hill</td>\n",
       "      <td>608</td>\n",
       "      <td>Spain</td>\n",
       "      <td>Female</td>\n",
       "      <td>41</td>\n",
       "      <td>1</td>\n",
       "      <td>83807.86</td>\n",
       "      <td>1</td>\n",
       "      <td>0</td>\n",
       "      <td>1</td>\n",
       "      <td>112542.58</td>\n",
       "      <td>0</td>\n",
       "    </tr>\n",
       "    <tr>\n",
       "      <th>2</th>\n",
       "      <td>3</td>\n",
       "      <td>15619304</td>\n",
       "      <td>Onio</td>\n",
       "      <td>502</td>\n",
       "      <td>France</td>\n",
       "      <td>Female</td>\n",
       "      <td>42</td>\n",
       "      <td>8</td>\n",
       "      <td>159660.80</td>\n",
       "      <td>3</td>\n",
       "      <td>1</td>\n",
       "      <td>0</td>\n",
       "      <td>113931.57</td>\n",
       "      <td>1</td>\n",
       "    </tr>\n",
       "    <tr>\n",
       "      <th>3</th>\n",
       "      <td>4</td>\n",
       "      <td>15701354</td>\n",
       "      <td>Boni</td>\n",
       "      <td>699</td>\n",
       "      <td>France</td>\n",
       "      <td>Female</td>\n",
       "      <td>39</td>\n",
       "      <td>1</td>\n",
       "      <td>0.00</td>\n",
       "      <td>2</td>\n",
       "      <td>0</td>\n",
       "      <td>0</td>\n",
       "      <td>93826.63</td>\n",
       "      <td>0</td>\n",
       "    </tr>\n",
       "    <tr>\n",
       "      <th>4</th>\n",
       "      <td>5</td>\n",
       "      <td>15737888</td>\n",
       "      <td>Mitchell</td>\n",
       "      <td>850</td>\n",
       "      <td>Spain</td>\n",
       "      <td>Female</td>\n",
       "      <td>43</td>\n",
       "      <td>2</td>\n",
       "      <td>125510.82</td>\n",
       "      <td>1</td>\n",
       "      <td>1</td>\n",
       "      <td>1</td>\n",
       "      <td>79084.10</td>\n",
       "      <td>0</td>\n",
       "    </tr>\n",
       "  </tbody>\n",
       "</table>\n",
       "</div>"
      ],
      "text/plain": [
       "   RowNumber  CustomerId   Surname  CreditScore Geography  Gender  Age  \\\n",
       "0          1    15634602  Hargrave          619    France  Female   42   \n",
       "1          2    15647311      Hill          608     Spain  Female   41   \n",
       "2          3    15619304      Onio          502    France  Female   42   \n",
       "3          4    15701354      Boni          699    France  Female   39   \n",
       "4          5    15737888  Mitchell          850     Spain  Female   43   \n",
       "\n",
       "   Tenure    Balance  NumOfProducts  HasCrCard  IsActiveMember  \\\n",
       "0       2       0.00              1          1               1   \n",
       "1       1   83807.86              1          0               1   \n",
       "2       8  159660.80              3          1               0   \n",
       "3       1       0.00              2          0               0   \n",
       "4       2  125510.82              1          1               1   \n",
       "\n",
       "   EstimatedSalary  Exited  \n",
       "0        101348.88       1  \n",
       "1        112542.58       0  \n",
       "2        113931.57       1  \n",
       "3         93826.63       0  \n",
       "4         79084.10       0  "
      ]
     },
     "execution_count": 2,
     "metadata": {},
     "output_type": "execute_result"
    }
   ],
   "source": [
    "churn_data = pd.read_csv('data/churn.csv')\n",
    "churn_data.head()"
   ]
  },
  {
   "attachments": {},
   "cell_type": "markdown",
   "metadata": {},
   "source": [
    "##### <center>*9.1. Каково соотношение ушедших и лояльных клиентов?*"
   ]
  },
  {
   "cell_type": "code",
   "execution_count": 3,
   "metadata": {},
   "outputs": [
    {
     "data": {
      "image/png": "[encoded data removed]",
      "text/plain": [
       "<Figure size 500x500 with 1 Axes>"
      ]
     },
     "metadata": {},
     "output_type": "display_data"
    }
   ],
   "source": [
    "fig = plt.figure(figsize=(5, 5))\n",
    "ax = fig.add_axes((0, 0, 1, 1))\n",
    "ratio_exited = churn_data['Exited'].value_counts()\n",
    "pie = ax.pie(\n",
    "    ratio_exited,\n",
    "    labels=['Лояльные клиенты', 'Клиентов ушло'],\n",
    "    autopct='%.1f%%',\n",
    "    labeldistance=0.2,\n",
    "    explode=[0.1, 0]\n",
    ")\n",
    "title = ax.set_title('Соотношение ушедших и лояльных клиентов', fontsize=16)\n",
    "plt.show(pie)"
   ]
  },
  {
   "attachments": {},
   "cell_type": "markdown",
   "metadata": {},
   "source": [
    "*Вывод:* Ушедших клиентов в 4 раза меньше лояльных."
   ]
  },
  {
   "attachments": {},
   "cell_type": "markdown",
   "metadata": {},
   "source": [
    "##### <center>*9.2 Распределение баланса пользователей, у которых на счету больше 2 500 долларов*"
   ]
  },
  {
   "cell_type": "code",
   "execution_count": 4,
   "metadata": {},
   "outputs": [
    {
     "data": {
      "image/png": "[encoded data removed]",
      "text/plain": [
       "<Figure size 1000x200 with 1 Axes>"
      ]
     },
     "metadata": {},
     "output_type": "display_data"
    }
   ],
   "source": [
    "fig = plt.figure(figsize=(10, 2))\n",
    "boxplot = sns.boxplot(\n",
    "    data=churn_data[churn_data['Balance']>2500],\n",
    "    x='Balance',\n",
    "    orient='h',\n",
    "    width=0.5\n",
    ")\n",
    "boxplot.set_title('Распределение баланса клиентов банка, у которых на счету больше 2500 долл.');\n",
    "boxplot.set_xlabel('Баланс');\n",
    "boxplot.grid()"
   ]
  },
  {
   "attachments": {},
   "cell_type": "markdown",
   "metadata": {},
   "source": [
    "*Вывод:*\n",
    "1. На графике виден диапозон распределения баланса от 2 500 долл. до 250 000 долл.(максимальное значение баланса пользователей).\n",
    "2. Большинство клиентов банка имеет баланс от 100 000 долл. до 140 000 долл. Средний баланс составляет 125000 долл."
   ]
  },
  {
   "attachments": {},
   "cell_type": "markdown",
   "metadata": {},
   "source": [
    "##### <center>*9.3. Распределение баланса клиента в разрезе признака оттока.* <br>\n",
    "*Как различаются суммы на накопительном счёте ушедших и лояльных клиентов?*"
   ]
  },
  {
   "cell_type": "code",
   "execution_count": 8,
   "metadata": {},
   "outputs": [
    {
     "data": {
      "image/png": "[encoded data removed]",
      "text/plain": [
       "<Figure size 1000x400 with 1 Axes>"
      ]
     },
     "metadata": {},
     "output_type": "display_data"
    }
   ],
   "source": [
    "fig = plt.figure(figsize=(10, 4))\n",
    "boxplot = sns.boxplot(\n",
    "    data=churn_data,\n",
    "    y='Exited',\n",
    "    x='Balance',\n",
    "    orient='h',\n",
    "    width=0.5\n",
    ")\n",
    "boxplot.set_title('Распределение баланса клиента в разрезе признака оттока');\n",
    "boxplot.set_xlabel('Баланс');\n",
    "boxplot.set_ylabel('Ушедшие                   Лояльные');\n",
    "boxplot.grid()"
   ]
  },
  {
   "attachments": {},
   "cell_type": "markdown",
   "metadata": {},
   "source": [
    "*Выводы:* у ушедших клиентов межквартильный размах начинается с больших сумм, чем у лояльных (примерно с 40 000 долл.), и максимум больше (250 000 долл.) Медианное значение у ушедших клиентов больше, чем у лояльных.\n",
    "Можно предположить, что у банка нет льготных или особых условий для VIP-клиентов с большими суммами на накопительных счетах.\n",
    "Межквартильный размах лояльных пользователей начинается с нуля, то есть у банка много пользователей с небольшими суммами на счетах."
   ]
  },
  {
   "attachments": {},
   "cell_type": "markdown",
   "metadata": {},
   "source": [
    "##### <center>*9.4. Распределение возраста в разрезе признака оттока.* <br>\n",
    "*В какой группе больше потенциальных выбросов? На какую возрастную категорию клиентов стоит обратить внимание банку?*"
   ]
  },
  {
   "cell_type": "code",
   "execution_count": 27,
   "metadata": {},
   "outputs": [
    {
     "data": {
      "image/png": "[encoded data removed]",
      "text/plain": [
       "<Figure size 1000x400 with 1 Axes>"
      ]
     },
     "metadata": {},
     "output_type": "display_data"
    }
   ],
   "source": [
    "fig = plt.figure(figsize=(10, 4))\n",
    "boxplot = sns.boxplot(\n",
    "    data=churn_data,\n",
    "    y='Exited',\n",
    "    x='Age',\n",
    "    orient='h',\n",
    "    width=0.5\n",
    ")\n",
    "boxplot.set_title('Распределение возраста клиента в разрезе признака оттока');\n",
    "boxplot.set_xlabel('Возраст');\n",
    "boxplot.set_ylabel('ушедшие                  лояльные');\n",
    "boxplot.grid()"
   ]
  },
  {
   "attachments": {},
   "cell_type": "markdown",
   "metadata": {},
   "source": [
    "*Выводы:* <br> потенциальных выбросов больше у лояльных клиентов, после максимума в 55 лет.\n",
    "Стоит обратить внимание, что основное количество лояльных клиентов в возрасте 30-40 лет . В то время как ушедшие клиенты старше (в основной массе), это 38-50 лет. Так же медианное значение лояльных клиентов (35) на 10 лет моложе, чем медианное значение возраста ушедших (45).\n",
    "Нужно обратить внимание на группу клиентов возраста 40 и старше."
   ]
  },
  {
   "attachments": {},
   "cell_type": "markdown",
   "metadata": {},
   "source": [
    "##### <center>*9.5. График, который показывает взаимосвязь кредитного рейтинга клиента и его предполагаемой зарплаты.<br>\n",
    "Добавьте расцветку по признаку оттока клиентов. Какова взаимосвязь между признаками?*"
   ]
  },
  {
   "cell_type": "code",
   "execution_count": 26,
   "metadata": {},
   "outputs": [
    {
     "data": {
      "application/vnd.plotly.v1+json": {
       "config": {
        "plotlyServerURL": "https://plot.ly"
       },
       "data": [
        {
         "hovertemplate": "CreditScore=%{x}<br>EstimatedSalary=%{y}<br>Exited=%{marker.color}<extra></extra>",
         "legendgroup": "",
         "marker": {
          "color": [
           1,
           1,
           1,
           1,
           1,
           1,
           1,
           1,
           1,
           1,
           1,
           1,
           1,
           1,
           1,
           1,
           0,
           1,
           1,
           0,
           1,
           0,
           1,
           0,
           0,
           0,
           0,
           1,
           0,
           1,
           0,
           0,
           0,
           1,
           0,
           0,
           1,
           0,
           1,
           0,
           1,
           0,
           0,
           1,
           0,
           0,
           0,
           1,
           0,
           0,
           1,
           0,
           1,
           0,
           1,
           0,
           0,
           1,
           0,
           1,
           0,
           1,
           0,
           1,
           0,
           1,
           0,
           1,
           0,
           0,
           0,
           0,
           1,
           0,
           1,
           0,
           1,
           0,
           1,
           0,
           1,
           0,
           0,
           0,
           0,
           0,
           0,
           1,
           0,
           1,
           0,
           0,
           1,
           0,
           1,
           0,
           0,
           1,
           0,
           1,
           0,
           1,
           0,
           0,
           0,
           0,
           1,
           0,
           1,
           0,
           1,
           0,
           1,
           0,
           1,
           0,
           0,
           0,
           0,
           1,
           0,
           1,
           0,
           1,
           0,
           1,
           0,
           1,
           0,
           1,
           0,
           1,
           0,
           1,
           0,
           1,
           0,
           1,
           0,
           1,
           0,
           1,
           0,
           1,
           0,
           1,
           0,
           1,
           0,
           0,
           1,
           0,
           1,
           0,
           1,
           0,
           1,
           0,
           1,
           0,
           1,
           0,
           1,
           0,
           1,
           0,
           1,
           0,
           1,
           0,
           1,
           0,
           1,
           0,
           1,
           0,
           1,
           0,
           0,
           1,
           0,
           1,
           0,
           1,
           0,
           1,
           0,
           1,
           0,
           1,
           0,
           1,
           0,
           1,
           0,
           1,
           0,
           1,
           0,
           1,
           0,
           1,
           0,
           1,
           0,
           1,
           0,
           1,
           0,
           1,
           0,
           1,
           0,
           1,
           0,
           1,
           0,
           1,
           0,
           1,
           0,
           1,
           0,
           1,
           0,
           1,
           0,
           1,
           0,
           1,
           0,
           1,
           0,
           1,
           0,
           1,
           0,
           1,
           0,
           1,
           0,
           1,
           0,
           1,
           0,
           1,
           0,
           1,
           0,
           1,
           0,
           1,
           0,
           1,
           0,
           1,
           0,
           1,
           0,
           1,
           0,
           1,
           0,
           1,
           0,
           1,
           0,
           1,
           0,
           1,
           0,
           1,
           0,
           1,
           0,
           1,
           0,
           1,
           0,
           1,
           0,
           1,
           0,
           1,
           0,
           1,
           0,
           1,
           0,
           1,
           0,
           1,
           0,
           1,
           0,
           1,
           0,
           1,
           0,
           1,
           0,
           1,
           0,
           1,
           0,
           1,
           0,
           1,
           0,
           1,
           0,
           1,
           0,
           1,
           0,
           1,
           0,
           1,
           0,
           1,
           0,
           1,
           0,
           1,
           0,
           1,
           0,
           1,
           0,
           1,
           0,
           1,
           0,
           1,
           0,
           1,
           0,
           1,
           0,
           1,
           0,
           1,
           0,
           1,
           0,
           1,
           0,
           1,
           0,
           1,
           0,
           1,
           0,
           1,
           0,
           1,
           0,
           1,
           0,
           1,
           0,
           1,
           0,
           1,
           0,
           1,
           0,
           1,
           0,
           1,
           0,
           1,
           0,
           1,
           0,
           1,
           0,
           1,
           0,
           1,
           0,
           1,
           0,
           1,
           0,
           1,
           0,
           1,
           0,
           1,
           0,
           1,
           0,
           1,
           0,
           1,
           0,
           1,
           0,
           1,
           0,
           1,
           0,
           1,
           0,
           1,
           0,
           1,
           0,
           1,
           0,
           1,
           0,
           1,
           0,
           1,
           0,
           1,
           0,
           1,
           0,
           1,
           0,
           1,
           0,
           1,
           0,
           1,
           0,
           1,
           0,
           1,
           0,
           1,
           0,
           1,
           0,
           1,
           0,
           1,
           0,
           1,
           0,
           1,
           0,
           1,
           0,
           1,
           0,
           1,
           0,
           1,
           0,
           1,
           0,
           1,
           0,
           1,
           0,
           1,
           0,
           1,
           0,
           1,
           0,
           1,
           0,
           1,
           0,
           1,
           0,
           1,
           0,
           1,
           0,
           1,
           0,
           1,
           0,
           1,
           0,
           1,
           0,
           1,
           0,
           1,
           0,
           1,
           0,
           1,
           0,
           1,
           0,
           1,
           0,
           1,
           0,
           1,
           0,
           1,
           0,
           1,
           0,
           1,
           0,
           1,
           0,
           1,
           0,
           1,
           0,
           1,
           0,
           1,
           0,
           1,
           0,
           1,
           0,
           1,
           0,
           1,
           0,
           1,
           0,
           1,
           0,
           1,
           0,
           1,
           0,
           1,
           0,
           1,
           0,
           1,
           0,
           1,
           0,
           1,
           0,
           1,
           0,
           1,
           0,
           1,
           0,
           1,
           0,
           1,
           0,
           1,
           0,
           1,
           0,
           1,
           0,
           1,
           0,
           1,
           0,
           1,
           0,
           1,
           0,
           1,
           0,
           1,
           0,
           1,
           0,
           1,
           0,
           1,
           0,
           1,
           0,
           1,
           0,
           1,
           0,
           1,
           0,
           1,
           0,
           1,
           0,
           1,
           0,
           1,
           0,
           1,
           0,
           1,
           0,
           1,
           0,
           1,
           0,
           1,
           0,
           1,
           0,
           1,
           0,
           1,
           0,
           1,
           0,
           1,
           0,
           1,
           0,
           1,
           0,
           1,
           0,
           1,
           0,
           1,
           0,
           1,
           0,
           1,
           0,
           1,
           0,
           1,
           0,
           1,
           0,
           1,
           0,
           1,
           0,
           1,
           0,
           1,
           0,
           1,
           0,
           1,
           0,
           1,
           0,
           1,
           0,
           1,
           0,
           1,
           0,
           1,
           0,
           1,
           0,
           1,
           0,
           1,
           0,
           1,
           0,
           1,
           0,
           1,
           0,
           1,
           0,
           1,
           0,
           1,
           0,
           1,
           0,
           1,
           0,
           1,
           0,
           1,
           0,
           1,
           0,
           1,
           0,
           1,
           0,
           1,
           0,
           1,
           0,
           0,
           1,
           0,
           1,
           0,
           1,
           0,
           1,
           0,
           1,
           0,
           1,
           0,
           1,
           0,
           1,
           0,
           1,
           0,
           1,
           0,
           1,
           0,
           1,
           0,
           1,
           0,
           1,
           0,
           1,
           0,
           1,
           0,
           1,
           0,
           1,
           0,
           1,
           0,
           1,
           0,
           1,
           0,
           1,
           0,
           1,
           0,
           1,
           0,
           0,
           1,
           0,
           1,
           0,
           1,
           0,
           1,
           0,
           1,
           0,
           1,
           0,
           1,
           0,
           1,
           0,
           1,
           0,
           1,
           0,
           1,
           0,
           1,
           0,
           1,
           0,
           1,
           0,
           1,
           0,
           1,
           0,
           0,
           1,
           0,
           1,
           0,
           1,
           0,
           1,
           0,
           1,
           0,
           1,
           0,
           1,
           0,
           1,
           0,
           0,
           1,
           0,
           1,
           0,
           1,
           0,
           0,
           1,
           0,
           1,
           0,
           1,
           0,
           1,
           0,
           1,
           0,
           1,
           0,
           1,
           0,
           1,
           0,
           1,
           0,
           1,
           0,
           1,
           0,
           1,
           0,
           0,
           1,
           0,
           1,
           0,
           0,
           1,
           0,
           1,
           0,
           1,
           0,
           1,
           0,
           1,
           0,
           1,
           0,
           0,
           1,
           0,
           1,
           0,
           1,
           0,
           1,
           0,
           1,
           0,
           0,
           1,
           0,
           1,
           0,
           1,
           0,
           1,
           0,
           0,
           1,
           0,
           1
          ],
          "coloraxis": "coloraxis",
          "symbol": "circle"
         },
         "mode": "markers",
         "name": "",
         "orientation": "v",
         "showlegend": false,
         "type": "scatter",
         "x": [
          350,
          351,
          358,
          359,
          363,
          365,
          367,
          373,
          376,
          382,
          383,
          386,
          395,
          399,
          401,
          404,
          405,
          405,
          407,
          408,
          408,
          410,
          410,
          411,
          412,
          413,
          414,
          414,
          415,
          415,
          416,
          417,
          418,
          418,
          419,
          420,
          420,
          421,
          421,
          422,
          423,
          424,
          425,
          425,
          426,
          427,
          428,
          428,
          429,
          430,
          430,
          431,
          431,
          432,
          432,
          433,
          434,
          434,
          435,
          435,
          436,
          436,
          437,
          437,
          438,
          438,
          439,
          439,
          440,
          441,
          442,
          443,
          443,
          444,
          444,
          445,
          445,
          446,
          446,
          447,
          447,
          448,
          449,
          450,
          451,
          452,
          453,
          453,
          454,
          454,
          455,
          456,
          456,
          457,
          457,
          458,
          459,
          459,
          460,
          460,
          461,
          461,
          462,
          463,
          464,
          465,
          465,
          466,
          466,
          467,
          467,
          468,
          468,
          469,
          469,
          470,
          471,
          472,
          473,
          473,
          474,
          474,
          475,
          475,
          476,
          476,
          477,
          477,
          478,
          478,
          479,
          479,
          480,
          480,
          481,
          481,
          482,
          482,
          483,
          483,
          484,
          484,
          485,
          485,
          486,
          486,
          487,
          487,
          488,
          489,
          489,
          490,
          490,
          491,
          491,
          492,
          492,
          493,
          493,
          494,
          494,
          495,
          495,
          496,
          496,
          497,
          497,
          498,
          498,
          499,
          499,
          500,
          500,
          501,
          501,
          502,
          502,
          503,
          504,
          504,
          505,
          505,
          506,
          506,
          507,
          507,
          508,
          508,
          509,
          509,
          510,
          510,
          511,
          511,
          512,
          512,
          513,
          513,
          514,
          514,
          515,
          515,
          516,
          516,
          517,
          517,
          518,
          518,
          519,
          519,
          520,
          520,
          521,
          521,
          522,
          522,
          523,
          523,
          524,
          524,
          525,
          525,
          526,
          526,
          527,
          527,
          528,
          528,
          529,
          529,
          530,
          530,
          531,
          531,
          532,
          532,
          533,
          533,
          534,
          534,
          535,
          535,
          536,
          536,
          537,
          537,
          538,
          538,
          539,
          539,
          540,
          540,
          541,
          541,
          542,
          542,
          543,
          543,
          544,
          544,
          545,
          545,
          546,
          546,
          547,
          547,
          548,
          548,
          549,
          549,
          550,
          550,
          551,
          551,
          552,
          552,
          553,
          553,
          554,
          554,
          555,
          555,
          556,
          556,
          557,
          557,
          558,
          558,
          559,
          559,
          560,
          560,
          561,
          561,
          562,
          562,
          563,
          563,
          564,
          564,
          565,
          565,
          566,
          566,
          567,
          567,
          568,
          568,
          569,
          569,
          570,
          570,
          571,
          571,
          572,
          572,
          573,
          573,
          574,
          574,
          575,
          575,
          576,
          576,
          577,
          577,
          578,
          578,
          579,
          579,
          580,
          580,
          581,
          581,
          582,
          582,
          583,
          583,
          584,
          584,
          585,
          585,
          586,
          586,
          587,
          587,
          588,
          588,
          589,
          589,
          590,
          590,
          591,
          591,
          592,
          592,
          593,
          593,
          594,
          594,
          595,
          595,
          596,
          596,
          597,
          597,
          598,
          598,
          599,
          599,
          600,
          600,
          601,
          601,
          602,
          602,
          603,
          603,
          604,
          604,
          605,
          605,
          606,
          606,
          607,
          607,
          608,
          608,
          609,
          609,
          610,
          610,
          611,
          611,
          612,
          612,
          613,
          613,
          614,
          614,
          615,
          615,
          616,
          616,
          617,
          617,
          618,
          618,
          619,
          619,
          620,
          620,
          621,
          621,
          622,
          622,
          623,
          623,
          624,
          624,
          625,
          625,
          626,
          626,
          627,
          627,
          628,
          628,
          629,
          629,
          630,
          630,
          631,
          631,
          632,
          632,
          633,
          633,
          634,
          634,
          635,
          635,
          636,
          636,
          637,
          637,
          638,
          638,
          639,
          639,
          640,
          640,
          641,
          641,
          642,
          642,
          643,
          643,
          644,
          644,
          645,
          645,
          646,
          646,
          647,
          647,
          648,
          648,
          649,
          649,
          650,
          650,
          651,
          651,
          652,
          652,
          653,
          653,
          654,
          654,
          655,
          655,
          656,
          656,
          657,
          657,
          658,
          658,
          659,
          659,
          660,
          660,
          661,
          661,
          662,
          662,
          663,
          663,
          664,
          664,
          665,
          665,
          666,
          666,
          667,
          667,
          668,
          668,
          669,
          669,
          670,
          670,
          671,
          671,
          672,
          672,
          673,
          673,
          674,
          674,
          675,
          675,
          676,
          676,
          677,
          677,
          678,
          678,
          679,
          679,
          680,
          680,
          681,
          681,
          682,
          682,
          683,
          683,
          684,
          684,
          685,
          685,
          686,
          686,
          687,
          687,
          688,
          688,
          689,
          689,
          690,
          690,
          691,
          691,
          692,
          692,
          693,
          693,
          694,
          694,
          695,
          695,
          696,
          696,
          697,
          697,
          698,
          698,
          699,
          699,
          700,
          700,
          701,
          701,
          702,
          702,
          703,
          703,
          704,
          704,
          705,
          705,
          706,
          706,
          707,
          707,
          708,
          708,
          709,
          709,
          710,
          710,
          711,
          711,
          712,
          712,
          713,
          713,
          714,
          714,
          715,
          715,
          716,
          716,
          717,
          717,
          718,
          718,
          719,
          719,
          720,
          720,
          721,
          721,
          722,
          722,
          723,
          723,
          724,
          724,
          725,
          725,
          726,
          726,
          727,
          727,
          728,
          728,
          729,
          729,
          730,
          730,
          731,
          731,
          732,
          732,
          733,
          733,
          734,
          734,
          735,
          735,
          736,
          736,
          737,
          737,
          738,
          738,
          739,
          739,
          740,
          740,
          741,
          741,
          742,
          742,
          743,
          743,
          744,
          744,
          745,
          745,
          746,
          746,
          747,
          747,
          748,
          748,
          749,
          749,
          750,
          750,
          751,
          751,
          752,
          752,
          753,
          753,
          754,
          754,
          755,
          755,
          756,
          756,
          757,
          757,
          758,
          758,
          759,
          760,
          760,
          761,
          761,
          762,
          762,
          763,
          763,
          764,
          764,
          765,
          765,
          766,
          766,
          767,
          767,
          768,
          768,
          769,
          769,
          770,
          770,
          771,
          771,
          772,
          772,
          773,
          773,
          774,
          774,
          775,
          775,
          776,
          776,
          777,
          777,
          778,
          778,
          779,
          779,
          780,
          780,
          781,
          781,
          782,
          782,
          783,
          783,
          784,
          785,
          785,
          786,
          786,
          787,
          787,
          788,
          788,
          789,
          789,
          790,
          790,
          791,
          791,
          792,
          792,
          793,
          793,
          794,
          794,
          795,
          795,
          796,
          796,
          797,
          797,
          798,
          798,
          799,
          799,
          800,
          800,
          801,
          802,
          802,
          803,
          803,
          804,
          804,
          805,
          805,
          806,
          806,
          807,
          807,
          808,
          808,
          809,
          809,
          810,
          811,
          811,
          812,
          812,
          813,
          813,
          814,
          815,
          815,
          816,
          816,
          817,
          817,
          818,
          818,
          819,
          819,
          820,
          820,
          821,
          821,
          822,
          822,
          823,
          823,
          824,
          824,
          825,
          825,
          826,
          826,
          827,
          828,
          828,
          829,
          829,
          830,
          831,
          831,
          832,
          832,
          833,
          833,
          834,
          834,
          835,
          835,
          836,
          836,
          837,
          838,
          838,
          839,
          839,
          840,
          840,
          841,
          841,
          842,
          842,
          843,
          844,
          844,
          845,
          845,
          846,
          846,
          847,
          847,
          848,
          849,
          849,
          850,
          850
         ],
         "xaxis": "x",
         "y": [
          125823.79,
          169621.69,
          141959.11,
          146955.71,
          100615.14,
          81537.85,
          168816.73,
          77786.37,
          138340.285,
          179540.73,
          137702.01,
          62514.65,
          17376.57,
          139994.68,
          175753.55,
          83715.66,
          72950.14,
          160810.85,
          49161.12,
          124874.23,
          188484.52,
          99778.105,
          66333.56,
          85223.63500000001,
          12510.53,
          60972.84,
          93844.82,
          77661.12,
          12710.95,
          178587.36,
          109007.195,
          55003.79,
          88878.15,
          81014.5,
          134720.51,
          9904.63,
          147170.70500000002,
          54388.994999999995,
          89017.38,
          49007.03,
          118372.55,
          16250.61,
          172646.88,
          136365,
          84553.87,
          69984.375,
          56434.6,
          72876.43,
          60520.87,
          82707.535,
          161937.62,
          121588.16,
          37688.31,
          71856.3,
          76655.97,
          87711.61,
          56784.11,
          73562.05,
          167461.5,
          78945.69499999999,
          35687.43,
          183540.22,
          152987.42,
          148330.97,
          56922.55,
          121664.52500000001,
          114423.065,
          198874.52,
          49826.68,
          174381.23,
          68343.08,
          35442.045,
          71521.405,
          141289.81,
          145831.675,
          121025.81,
          46607.705,
          155018.225,
          128260.86,
          113612,
          115684.82500000001,
          88607.63,
          140207.445,
          114853.995,
          167538.66,
          105442.785,
          129697.99,
          120373.84,
          148309.98,
          154344,
          76012.88,
          130283.565,
          140758.07,
          157042.31,
          185750.02,
          100564.37,
          102868.66,
          19287.06,
          158146.05,
          123855.355,
          132295.95,
          56767.67,
          105945.86000000002,
          94120.785,
          143665.44,
          127744.02,
          128098.225,
          109040.04000000001,
          181265.185,
          60932.365000000005,
          105066.985,
          147983.18,
          62256.87,
          141684.04,
          150093.32,
          68293.93,
          122642.09,
          63738.7,
          73073.68,
          85937.52,
          110953.33,
          145177.345,
          95032.64,
          89976.45,
          90238.195,
          126498.825,
          157937.35,
          116933.435,
          144609.845,
          51820.87,
          95209.555,
          50774.81,
          92108.515,
          25887.89,
          110059.435,
          117609.94,
          79187.045,
          87642.235,
          110059.38,
          177753.945,
          118045.98,
          93737.35500000001,
          107067.37,
          116828.51,
          80646.60500000001,
          168034.83,
          98570.01,
          24207.86,
          115206.65,
          107625.46,
          147222.95,
          108313.34,
          110327.1,
          121693.245,
          78850.435,
          121328.655,
          92144.09,
          72696.965,
          163365.115,
          82684.95000000001,
          188426.13,
          100738,
          125619.5,
          108098.28,
          31532.96,
          81389.265,
          63233.02,
          132210.49,
          77699.975,
          95933.275,
          131372.38,
          140268.45,
          101178.57500000001,
          106549.035,
          81123.59,
          84663.21,
          43568.31,
          136506.86,
          135178.91,
          158036.72,
          126589.705,
          174123.16,
          105568.6,
          194421.12,
          92131.54,
          119110.03,
          94170.84,
          132468.76,
          99909.37,
          71244.59,
          62975.115,
          76006.47,
          143994.86,
          115779.48,
          81901.08,
          51749.31,
          110142.34,
          64635.009999999995,
          57723.75,
          155407.21,
          136028.97,
          81436.68,
          115818.16,
          142680.64,
          53727.315,
          101240.08,
          121624.68,
          107112.25,
          101485.72,
          147278.43,
          56246.69,
          91101.73000000001,
          84908.2,
          62413.01,
          137299.22,
          174248.52,
          121428.2,
          125493.24,
          126812.85,
          134470.77000000002,
          100687.67,
          85731.755,
          92277.02,
          110114.38,
          100507.22,
          97749.985,
          125315.755,
          141529.155,
          75285.47,
          112813.79,
          102932.575,
          123475.88,
          75248.75,
          130004.77,
          64604.39,
          148704.77,
          137696.25,
          76614.48000000001,
          79898.73999999999,
          42763.12,
          111421.77,
          62105.5,
          64833.28,
          64308.49,
          103085.075,
          110745.175,
          98403.09,
          69333.325,
          86767.48,
          116727.755,
          95421,
          183051.6,
          86173.92,
          199808.1,
          77737.86,
          41223.33,
          112771.95,
          103320.43,
          98208.62,
          101957.165,
          108398.63,
          89587.34,
          105279.74,
          66732.63,
          78670.025,
          75606.725,
          65996.9,
          142804.02000000002,
          102730.97,
          82621.32,
          130240.645,
          63092.65,
          91565.25,
          84819.10500000001,
          52206.06,
          117505.07,
          79601.65,
          129127.09,
          126033.9,
          118466.12,
          101667,
          119126.92,
          104000.06,
          125295.02,
          103754.78,
          132370.75,
          136301.1,
          99494.055,
          86634.3,
          124777.20999999999,
          87133.245,
          123181.44,
          73286.8,
          133109.375,
          91482.5,
          31189.935,
          39297.48,
          130587.435,
          81470.485,
          46632.87,
          105642.43,
          150862.5,
          102246,
          86904.3,
          94468.23999999999,
          102427.135,
          66586.56,
          85836.1,
          133997.53,
          92964.705,
          97889.53,
          131363.57,
          107558.84,
          79855.58,
          106043.455,
          49373.97,
          99500.84,
          155915.24,
          88463.63,
          85981.53,
          95128.48999999999,
          87397.42,
          70560.15,
          112465.19,
          125471.45,
          130395.72,
          112124.98,
          143397.14,
          92799.655,
          22497.1,
          94677.83,
          107404.68,
          86383.82,
          141035.65,
          66962.69,
          76582.95,
          52861.89,
          84828.12,
          105818.51,
          125318.48999999999,
          93714.6,
          110791.01,
          69024.79000000001,
          125684.035,
          64593.07,
          74013.47,
          90479.55,
          70930.015,
          98320.27,
          95483.48,
          113288.66500000001,
          91013.265,
          98689.92,
          161304.68,
          88050.205,
          47362.095,
          80608.12,
          53931.05,
          103480.69,
          22796.205,
          105149.8,
          94975.76,
          85412.54,
          121189.3,
          91563.55,
          64025.935000000005,
          142687.38,
          88340.91,
          103630.175,
          120854.61499999999,
          88669.89,
          93629.66,
          91737.695,
          45765.18,
          112928.74,
          169921.11,
          92840.67,
          142072.205,
          69056.26,
          47777.15,
          107994.99,
          66881.67,
          111448.92,
          106837.06,
          114190.3,
          109291.39,
          114333.43,
          93568.77,
          112585.19,
          113276.46,
          113943.17,
          171530.38,
          123248.95499999999,
          92671.41,
          148614.215,
          97990.04500000001,
          81333.67,
          86720.83499999999,
          77644.91,
          127166.49,
          120321.09,
          79405.81,
          104379.36,
          87304.47,
          105965.25,
          64319.494999999995,
          80204.38,
          120668.46,
          113527.945,
          106895.755,
          71175.94,
          53604.100000000006,
          74157.71,
          132557.485,
          102955.275,
          115797.955,
          102635.85,
          62202.185,
          106726.345,
          73679.59,
          98122.875,
          133020.9,
          73211.295,
          78648.79000000001,
          121740.04999999999,
          92538.275,
          112899.475,
          107674.3,
          89921.91,
          64849.74,
          103765.285,
          61819.34,
          117374.22,
          104352.22,
          98090.91,
          82152.83,
          98349.13,
          54263.45,
          119701.68,
          99489.465,
          119400.08,
          123646.57,
          80528.155,
          101393.875,
          106994.695,
          101974.66,
          96381.545,
          91483.55,
          95849.91,
          84361.72,
          103830.36,
          69584.3,
          91510.71,
          90964.54,
          91775.51,
          70247.87,
          123673.98,
          47942.494999999995,
          81312.625,
          108761.05,
          81369.04000000001,
          123982.14,
          90547.1,
          85681.63,
          89686.60500000001,
          136592.24,
          107702.31,
          147239.64,
          82956.03,
          90286.225,
          82970.69,
          130170.48,
          123954.15,
          84383.22,
          134974.1,
          154302.29499999998,
          54521.685,
          78250.13,
          130075.07,
          183872.88,
          86981.45,
          81054,
          116706,
          62683.185,
          73127.61,
          119333.95,
          84927.42,
          135459.02,
          104533.51,
          116249.72,
          96847.91,
          187604.97,
          86678.48,
          111140.48999999999,
          73107.53,
          62305.16499999999,
          101371.05,
          60668.98,
          122433.09,
          140173.17,
          115147.33,
          45400.215,
          93266.01,
          128019.48,
          68942.73000000001,
          108348.94,
          99984.86,
          123671.655,
          124382.9,
          124872.42,
          79980.48000000001,
          166474.905,
          106715.1,
          131033.38500000001,
          149355.47499999998,
          92027.69,
          82052.48999999999,
          21063.71,
          97805.975,
          96390.81,
          71845.01,
          138777,
          93271.45499999999,
          85579.845,
          105311.38,
          60590.72,
          87013.45999999999,
          147489.76,
          98015.85,
          172844.34999999998,
          90162.35,
          81776.84,
          101319.76,
          21490.67,
          103318.44,
          73304.91500000001,
          96754.8,
          97629.31,
          117038.96,
          69643.31,
          113561.8,
          72852.74,
          120049.375,
          75246.21,
          110230.4,
          126719.965,
          141107.05,
          128895.01999999999,
          120055.10500000001,
          51980.25,
          83253.05,
          114187.805,
          104079.92,
          137531.3,
          112830.57,
          110773.39499999999,
          80149.27,
          68426.555,
          88890.75,
          118099.495,
          100316.78,
          126381.6,
          80591.18,
          126353.13,
          79734.23,
          66893.28,
          90212.38,
          100898.66500000001,
          104658.93,
          140159.975,
          134417.31,
          142977.05,
          97794.71,
          149132.5,
          104575.29000000001,
          59207.41,
          79997.14,
          77294.56,
          145338.61,
          120770.75,
          96075.55,
          92220.955,
          75732.25,
          137674.55,
          96861.78,
          96328.395,
          92979.995,
          123384.525,
          81452.29,
          42085.58,
          99645.04,
          101424.325,
          70381.875,
          38409.79,
          122547.58,
          98576.76999999999,
          82565.01,
          144682.17,
          96687.25,
          61902.295,
          96249.08,
          143096.49,
          106464.47,
          14608,
          103706.41,
          124532.9,
          63030.97,
          32421.32,
          132554.08500000002,
          63051.32,
          136120.29,
          79623.28,
          96886.225,
          105189.645,
          128262.14,
          90655.94,
          94415.6,
          141977.54,
          96030.475,
          134889.95,
          127424.245,
          131173.9,
          78970.58,
          122066.92,
          101433.76,
          107415.02,
          85868.435,
          84300.4,
          104402.695,
          58268.2,
          125478.32,
          33373.26,
          143086.09,
          159718.27,
          135850.02000000002,
          91936.1,
          108377.82,
          48559.19,
          77272.62,
          121894.31,
          94252.115,
          140524.34,
          82001.555,
          93668.635,
          78650.95,
          83470.4,
          69227.42,
          64616.59,
          125892.85500000001,
          147802.94,
          79852.79999999999,
          94554.74,
          73873.65,
          78499.08,
          67948.335,
          60920.03,
          108543.21,
          104739.43,
          100188.25,
          141746.53,
          124406.85,
          73275.96,
          91416.735,
          80344.96,
          141706.43,
          101495,
          110866.41,
          100298.63500000001,
          83234.14,
          102042.285,
          68695.38,
          122090.59,
          84175.34,
          107357.335,
          102930.46,
          139844.04,
          109881.71,
          92320.37,
          87684.93,
          83716.105,
          76016.49,
          126013.58,
          109098.39,
          93524.19,
          137136.29,
          53179.21,
          80542.32,
          102460.84,
          99086.74,
          99698.805,
          91098.76,
          129087.015,
          86920.97,
          139971.01,
          68562.26,
          65857.41,
          68878.08,
          112740.775,
          158323.81,
          82868.34,
          123237.975,
          54990.815,
          153965.56,
          94767.77,
          81863.875,
          64883.43000000001,
          59295.935,
          80225.66500000001,
          97749.315,
          116027.295,
          26163.74,
          72990.62,
          111693.54000000001,
          79414,
          92888.52,
          73656.38,
          123587.83,
          101828.39,
          113266.28,
          100141.19,
          73495.865,
          126517.46,
          129525.5,
          93132.32,
          99453.63,
          121101.05,
          132469.095,
          99302.08,
          113425.975,
          91008.23999999999,
          182156.81,
          112202.64,
          105182.37,
          118604.85,
          117860.14,
          126747.66,
          96590.39,
          153891.2,
          89305.77,
          93774.32,
          96821.28,
          94851.45999999999,
          79510.37,
          20955.03,
          77690.93,
          180150.49,
          103603.65,
          96502.45499999999,
          149418.41,
          77693.22,
          96734.46,
          139946.68,
          92664.09,
          18922.18,
          102921.17,
          159123.82,
          88992.05,
          163526.31,
          161433.5,
          35418.69,
          105080.53,
          91986.765,
          117916.63,
          49418.87,
          109199.355,
          31907.44,
          100109.83,
          63034.445,
          78744.39,
          98640.15,
          66256.27,
          134542.71,
          49485.32,
          122027.325,
          54277.45,
          118752.6,
          8546.87,
          28861.69,
          62989.82,
          105329.93,
          85028.36,
          114448.13,
          80164.075,
          113907.8,
          35140.49,
          137167.425,
          160976.85,
          101885.795,
          146123.19,
          79912.225,
          156906.15,
          91556.57,
          66115.34,
          187636.06,
          142029.17,
          157050.005,
          52885.23,
          72814.31,
          71905.77,
          80985.88,
          88076.485,
          78941.59,
          192298.84,
          66648.92,
          96605.37999999999,
          81562.07,
          39154.37,
          64613.81,
          126241.4,
          67524.11,
          9149.96,
          162683.06,
          79815.27500000001,
          67885.37,
          87474.89,
          52301.15,
          26342.33,
          157397.57,
          170256.40000000002,
          103305.01,
          116613.26,
          83611.45,
          30529.88,
          119708.21,
          50567.450000000004,
          165840.94,
          28144.07,
          134638.97,
          127804.66,
          136129.49,
          37522.87,
          66385.22,
          140225.14,
          106276.55,
          45859.55,
          132536.07,
          37141.62,
          65275.975000000006,
          78310.04,
          150659.35,
          62674.42,
          118642.92499999999,
          87698.285,
          36687.11,
          134188.61,
          134378.03999999998,
          103304.62,
          87071.18,
          39149.134999999995,
          134627.325,
          141175.18,
          150664.97,
          31726.76,
          96202.44,
          35917.055,
          96211.965,
          80104.615,
          158853.98,
          132742.87,
          170130.08000000002,
          96140.465,
          70916
         ],
         "yaxis": "y"
        }
       ],
       "layout": {
        "coloraxis": {
         "colorbar": {
          "title": {
           "text": "Exited"
          }
         },
         "colorscale": [
          [
           0,
           "#0d0887"
          ],
          [
           0.1111111111111111,
           "#46039f"
          ],
          [
           0.2222222222222222,
           "#7201a8"
          ],
          [
           0.3333333333333333,
           "#9c179e"
          ],
          [
           0.4444444444444444,
           "#bd3786"
          ],
          [
           0.5555555555555556,
           "#d8576b"
          ],
          [
           0.6666666666666666,
           "#ed7953"
          ],
          [
           0.7777777777777778,
           "#fb9f3a"
          ],
          [
           0.8888888888888888,
           "#fdca26"
          ],
          [
           1,
           "#f0f921"
          ]
         ]
        },
        "height": 500,
        "legend": {
         "tracegroupgap": 0
        },
        "template": {
         "data": {
          "bar": [
           {
            "error_x": {
             "color": "#2a3f5f"
            },
            "error_y": {
             "color": "#2a3f5f"
            },
            "marker": {
             "line": {
              "color": "#E5ECF6",
              "width": 0.5
             },
             "pattern": {
              "fillmode": "overlay",
              "size": 10,
              "solidity": 0.2
             }
            },
            "type": "bar"
           }
          ],
          "barpolar": [
           {
            "marker": {
             "line": {
              "color": "#E5ECF6",
              "width": 0.5
             },
             "pattern": {
              "fillmode": "overlay",
              "size": 10,
              "solidity": 0.2
             }
            },
            "type": "barpolar"
           }
          ],
          "carpet": [
           {
            "aaxis": {
             "endlinecolor": "#2a3f5f",
             "gridcolor": "white",
             "linecolor": "white",
             "minorgridcolor": "white",
             "startlinecolor": "#2a3f5f"
            },
            "baxis": {
             "endlinecolor": "#2a3f5f",
             "gridcolor": "white",
             "linecolor": "white",
             "minorgridcolor": "white",
             "startlinecolor": "#2a3f5f"
            },
            "type": "carpet"
           }
          ],
          "choropleth": [
           {
            "colorbar": {
             "outlinewidth": 0,
             "ticks": ""
            },
            "type": "choropleth"
           }
          ],
          "contour": [
           {
            "colorbar": {
             "outlinewidth": 0,
             "ticks": ""
            },
            "colorscale": [
             [
              0,
              "#0d0887"
             ],
             [
              0.1111111111111111,
              "#46039f"
             ],
             [
              0.2222222222222222,
              "#7201a8"
             ],
             [
              0.3333333333333333,
              "#9c179e"
             ],
             [
              0.4444444444444444,
              "#bd3786"
             ],
             [
              0.5555555555555556,
              "#d8576b"
             ],
             [
              0.6666666666666666,
              "#ed7953"
             ],
             [
              0.7777777777777778,
              "#fb9f3a"
             ],
             [
              0.8888888888888888,
              "#fdca26"
             ],
             [
              1,
              "#f0f921"
             ]
            ],
            "type": "contour"
           }
          ],
          "contourcarpet": [
           {
            "colorbar": {
             "outlinewidth": 0,
             "ticks": ""
            },
            "type": "contourcarpet"
           }
          ],
          "heatmap": [
           {
            "colorbar": {
             "outlinewidth": 0,
             "ticks": ""
            },
            "colorscale": [
             [
              0,
              "#0d0887"
             ],
             [
              0.1111111111111111,
              "#46039f"
             ],
             [
              0.2222222222222222,
              "#7201a8"
             ],
             [
              0.3333333333333333,
              "#9c179e"
             ],
             [
              0.4444444444444444,
              "#bd3786"
             ],
             [
              0.5555555555555556,
              "#d8576b"
             ],
             [
              0.6666666666666666,
              "#ed7953"
             ],
             [
              0.7777777777777778,
              "#fb9f3a"
             ],
             [
              0.8888888888888888,
              "#fdca26"
             ],
             [
              1,
              "#f0f921"
             ]
            ],
            "type": "heatmap"
           }
          ],
          "heatmapgl": [
           {
            "colorbar": {
             "outlinewidth": 0,
             "ticks": ""
            },
            "colorscale": [
             [
              0,
              "#0d0887"
             ],
             [
              0.1111111111111111,
              "#46039f"
             ],
             [
              0.2222222222222222,
              "#7201a8"
             ],
             [
              0.3333333333333333,
              "#9c179e"
             ],
             [
              0.4444444444444444,
              "#bd3786"
             ],
             [
              0.5555555555555556,
              "#d8576b"
             ],
             [
              0.6666666666666666,
              "#ed7953"
             ],
             [
              0.7777777777777778,
              "#fb9f3a"
             ],
             [
              0.8888888888888888,
              "#fdca26"
             ],
             [
              1,
              "#f0f921"
             ]
            ],
            "type": "heatmapgl"
           }
          ],
          "histogram": [
           {
            "marker": {
             "pattern": {
              "fillmode": "overlay",
              "size": 10,
              "solidity": 0.2
             }
            },
            "type": "histogram"
           }
          ],
          "histogram2d": [
           {
            "colorbar": {
             "outlinewidth": 0,
             "ticks": ""
            },
            "colorscale": [
             [
              0,
              "#0d0887"
             ],
             [
              0.1111111111111111,
              "#46039f"
             ],
             [
              0.2222222222222222,
              "#7201a8"
             ],
             [
              0.3333333333333333,
              "#9c179e"
             ],
             [
              0.4444444444444444,
              "#bd3786"
             ],
             [
              0.5555555555555556,
              "#d8576b"
             ],
             [
              0.6666666666666666,
              "#ed7953"
             ],
             [
              0.7777777777777778,
              "#fb9f3a"
             ],
             [
              0.8888888888888888,
              "#fdca26"
             ],
             [
              1,
              "#f0f921"
             ]
            ],
            "type": "histogram2d"
           }
          ],
          "histogram2dcontour": [
           {
            "colorbar": {
             "outlinewidth": 0,
             "ticks": ""
            },
            "colorscale": [
             [
              0,
              "#0d0887"
             ],
             [
              0.1111111111111111,
              "#46039f"
             ],
             [
              0.2222222222222222,
              "#7201a8"
             ],
             [
              0.3333333333333333,
              "#9c179e"
             ],
             [
              0.4444444444444444,
              "#bd3786"
             ],
             [
              0.5555555555555556,
              "#d8576b"
             ],
             [
              0.6666666666666666,
              "#ed7953"
             ],
             [
              0.7777777777777778,
              "#fb9f3a"
             ],
             [
              0.8888888888888888,
              "#fdca26"
             ],
             [
              1,
              "#f0f921"
             ]
            ],
            "type": "histogram2dcontour"
           }
          ],
          "mesh3d": [
           {
            "colorbar": {
             "outlinewidth": 0,
             "ticks": ""
            },
            "type": "mesh3d"
           }
          ],
          "parcoords": [
           {
            "line": {
             "colorbar": {
              "outlinewidth": 0,
              "ticks": ""
             }
            },
            "type": "parcoords"
           }
          ],
          "pie": [
           {
            "automargin": true,
            "type": "pie"
           }
          ],
          "scatter": [
           {
            "fillpattern": {
             "fillmode": "overlay",
             "size": 10,
             "solidity": 0.2
            },
            "type": "scatter"
           }
          ],
          "scatter3d": [
           {
            "line": {
             "colorbar": {
              "outlinewidth": 0,
              "ticks": ""
             }
            },
            "marker": {
             "colorbar": {
              "outlinewidth": 0,
              "ticks": ""
             }
            },
            "type": "scatter3d"
           }
          ],
          "scattercarpet": [
           {
            "marker": {
             "colorbar": {
              "outlinewidth": 0,
              "ticks": ""
             }
            },
            "type": "scattercarpet"
           }
          ],
          "scattergeo": [
           {
            "marker": {
             "colorbar": {
              "outlinewidth": 0,
              "ticks": ""
             }
            },
            "type": "scattergeo"
           }
          ],
          "scattergl": [
           {
            "marker": {
             "colorbar": {
              "outlinewidth": 0,
              "ticks": ""
             }
            },
            "type": "scattergl"
           }
          ],
          "scattermapbox": [
           {
            "marker": {
             "colorbar": {
              "outlinewidth": 0,
              "ticks": ""
             }
            },
            "type": "scattermapbox"
           }
          ],
          "scatterpolar": [
           {
            "marker": {
             "colorbar": {
              "outlinewidth": 0,
              "ticks": ""
             }
            },
            "type": "scatterpolar"
           }
          ],
          "scatterpolargl": [
           {
            "marker": {
             "colorbar": {
              "outlinewidth": 0,
              "ticks": ""
             }
            },
            "type": "scatterpolargl"
           }
          ],
          "scatterternary": [
           {
            "marker": {
             "colorbar": {
              "outlinewidth": 0,
              "ticks": ""
             }
            },
            "type": "scatterternary"
           }
          ],
          "surface": [
           {
            "colorbar": {
             "outlinewidth": 0,
             "ticks": ""
            },
            "colorscale": [
             [
              0,
              "#0d0887"
             ],
             [
              0.1111111111111111,
              "#46039f"
             ],
             [
              0.2222222222222222,
              "#7201a8"
             ],
             [
              0.3333333333333333,
              "#9c179e"
             ],
             [
              0.4444444444444444,
              "#bd3786"
             ],
             [
              0.5555555555555556,
              "#d8576b"
             ],
             [
              0.6666666666666666,
              "#ed7953"
             ],
             [
              0.7777777777777778,
              "#fb9f3a"
             ],
             [
              0.8888888888888888,
              "#fdca26"
             ],
             [
              1,
              "#f0f921"
             ]
            ],
            "type": "surface"
           }
          ],
          "table": [
           {
            "cells": {
             "fill": {
              "color": "#EBF0F8"
             },
             "line": {
              "color": "white"
             }
            },
            "header": {
             "fill": {
              "color": "#C8D4E3"
             },
             "line": {
              "color": "white"
             }
            },
            "type": "table"
           }
          ]
         },
         "layout": {
          "annotationdefaults": {
           "arrowcolor": "#2a3f5f",
           "arrowhead": 0,
           "arrowwidth": 1
          },
          "autotypenumbers": "strict",
          "coloraxis": {
           "colorbar": {
            "outlinewidth": 0,
            "ticks": ""
           }
          },
          "colorscale": {
           "diverging": [
            [
             0,
             "#8e0152"
            ],
            [
             0.1,
             "#c51b7d"
            ],
            [
             0.2,
             "#de77ae"
            ],
            [
             0.3,
             "#f1b6da"
            ],
            [
             0.4,
             "#fde0ef"
            ],
            [
             0.5,
             "#f7f7f7"
            ],
            [
             0.6,
             "#e6f5d0"
            ],
            [
             0.7,
             "#b8e186"
            ],
            [
             0.8,
             "#7fbc41"
            ],
            [
             0.9,
             "#4d9221"
            ],
            [
             1,
             "#276419"
            ]
           ],
           "sequential": [
            [
             0,
             "#0d0887"
            ],
            [
             0.1111111111111111,
             "#46039f"
            ],
            [
             0.2222222222222222,
             "#7201a8"
            ],
            [
             0.3333333333333333,
             "#9c179e"
            ],
            [
             0.4444444444444444,
             "#bd3786"
            ],
            [
             0.5555555555555556,
             "#d8576b"
            ],
            [
             0.6666666666666666,
             "#ed7953"
            ],
            [
             0.7777777777777778,
             "#fb9f3a"
            ],
            [
             0.8888888888888888,
             "#fdca26"
            ],
            [
             1,
             "#f0f921"
            ]
           ],
           "sequentialminus": [
            [
             0,
             "#0d0887"
            ],
            [
             0.1111111111111111,
             "#46039f"
            ],
            [
             0.2222222222222222,
             "#7201a8"
            ],
            [
             0.3333333333333333,
             "#9c179e"
            ],
            [
             0.4444444444444444,
             "#bd3786"
            ],
            [
             0.5555555555555556,
             "#d8576b"
            ],
            [
             0.6666666666666666,
             "#ed7953"
            ],
            [
             0.7777777777777778,
             "#fb9f3a"
            ],
            [
             0.8888888888888888,
             "#fdca26"
            ],
            [
             1,
             "#f0f921"
            ]
           ]
          },
          "colorway": [
           "#636efa",
           "#EF553B",
           "#00cc96",
           "#ab63fa",
           "#FFA15A",
           "#19d3f3",
           "#FF6692",
           "#B6E880",
           "#FF97FF",
           "#FECB52"
          ],
          "font": {
           "color": "#2a3f5f"
          },
          "geo": {
           "bgcolor": "white",
           "lakecolor": "white",
           "landcolor": "#E5ECF6",
           "showlakes": true,
           "showland": true,
           "subunitcolor": "white"
          },
          "hoverlabel": {
           "align": "left"
          },
          "hovermode": "closest",
          "mapbox": {
           "style": "light"
          },
          "paper_bgcolor": "white",
          "plot_bgcolor": "#E5ECF6",
          "polar": {
           "angularaxis": {
            "gridcolor": "white",
            "linecolor": "white",
            "ticks": ""
           },
           "bgcolor": "#E5ECF6",
           "radialaxis": {
            "gridcolor": "white",
            "linecolor": "white",
            "ticks": ""
           }
          },
          "scene": {
           "xaxis": {
            "backgroundcolor": "#E5ECF6",
            "gridcolor": "white",
            "gridwidth": 2,
            "linecolor": "white",
            "showbackground": true,
            "ticks": "",
            "zerolinecolor": "white"
           },
           "yaxis": {
            "backgroundcolor": "#E5ECF6",
            "gridcolor": "white",
            "gridwidth": 2,
            "linecolor": "white",
            "showbackground": true,
            "ticks": "",
            "zerolinecolor": "white"
           },
           "zaxis": {
            "backgroundcolor": "#E5ECF6",
            "gridcolor": "white",
            "gridwidth": 2,
            "linecolor": "white",
            "showbackground": true,
            "ticks": "",
            "zerolinecolor": "white"
           }
          },
          "shapedefaults": {
           "line": {
            "color": "#2a3f5f"
           }
          },
          "ternary": {
           "aaxis": {
            "gridcolor": "white",
            "linecolor": "white",
            "ticks": ""
           },
           "baxis": {
            "gridcolor": "white",
            "linecolor": "white",
            "ticks": ""
           },
           "bgcolor": "#E5ECF6",
           "caxis": {
            "gridcolor": "white",
            "linecolor": "white",
            "ticks": ""
           }
          },
          "title": {
           "x": 0.05
          },
          "xaxis": {
           "automargin": true,
           "gridcolor": "white",
           "linecolor": "white",
           "ticks": "",
           "title": {
            "standoff": 15
           },
           "zerolinecolor": "white",
           "zerolinewidth": 2
          },
          "yaxis": {
           "automargin": true,
           "gridcolor": "white",
           "linecolor": "white",
           "ticks": "",
           "title": {
            "standoff": 15
           },
           "zerolinecolor": "white",
           "zerolinewidth": 2
          }
         }
        },
        "title": {
         "text": "Зависимость кредитного рейтинга от предполагаемой заработной платы"
        },
        "width": 1000,
        "xaxis": {
         "anchor": "y",
         "domain": [
          0,
          1
         ],
         "title": {
          "text": "CreditScore"
         }
        },
        "yaxis": {
         "anchor": "x",
         "domain": [
          0,
          1
         ],
         "title": {
          "text": "EstimatedSalary"
         }
        }
       }
      }
     },
     "metadata": {},
     "output_type": "display_data"
    }
   ],
   "source": [
    "score_salary = churn_data.groupby(['CreditScore', 'Exited'],as_index=False)['EstimatedSalary'].median()\n",
    "churn_data['Exited'] = churn_data['Exited'].astype('category')\n",
    "churn_data['Exited'] = churn_data['Exited'].cat.rename_categories({\n",
    "    1: 'Exited',\n",
    "    0: 'Loyal'\n",
    "})\n",
    "fig = px.scatter(\n",
    "    data_frame=score_salary,\n",
    "    x='CreditScore',\n",
    "    y='EstimatedSalary',\n",
    "    color='Exited',\n",
    "    width=1000,\n",
    "    height=500,\n",
    "    title='Зависимость кредитного рейтинга от предполагаемой заработной платы'\n",
    ")\n",
    "fig.show()"
   ]
  },
  {
   "attachments": {},
   "cell_type": "markdown",
   "metadata": {},
   "source": [
    "*Вывод:* <br> по графику без группировки не видно взаимосвязи рейтинга и зарплаты.<br>\n",
    "Группировка по рейтингу и средняя заработная плата дают возможность увидеть, что у лояльных клиентов разброс средних заработных плат не такой сильных, как у ушедших. Так же видно, что среди ушедших клиентов много клиентов с большой зароботной платой, но маленьким кредитным рейтингом."
   ]
  },
  {
   "attachments": {},
   "cell_type": "markdown",
   "metadata": {},
   "source": [
    "##### <center>*9.6. Кто чаще уходит, мужчины или женщины?*"
   ]
  },
  {
   "cell_type": "code",
   "execution_count": 25,
   "metadata": {},
   "outputs": [
    {
     "data": {
      "image/png": "[encoded data removed]",
      "text/plain": [
       "<Figure size 640x480 with 1 Axes>"
      ]
     },
     "metadata": {},
     "output_type": "display_data"
    }
   ],
   "source": [
    "import pandas as pd\n",
    "churn_data = pd.read_csv('data/churn.csv')\n",
    "\n",
    "churn_data = churn_data.drop(['RowNumber'], axis=1)\n",
    "\n",
    "import seaborn as sns\n",
    "\n",
    "churn_data_gender = churn_data.groupby(['Gender'], as_index=False)['Exited'].mean()\n",
    "\n",
    "barplot = sns.barplot(\n",
    "    data=churn_data_gender,\n",
    "    x='Gender',\n",
    "    y='Exited',\n",
    "    orient='v',\n",
    ")\n",
    "barplot.set_title('Соотношение мужчин и женщин среди ушедших клиентов', fontsize=16);\n",
    "barplot.set_ylabel('Доля ушедших клиентов', fontsize=14);\n",
    "barplot.set_xlabel('Гендерный признак', fontsize=14);"
   ]
  },
  {
   "attachments": {},
   "cell_type": "markdown",
   "metadata": {},
   "source": [
    "*Вывод:* <br> чаще уходят женщины."
   ]
  },
  {
   "attachments": {},
   "cell_type": "markdown",
   "metadata": {},
   "source": [
    "##### <center>*9.7. Как отток клиентов зависит от числа приобретённых у банка услуг?*"
   ]
  },
  {
   "cell_type": "code",
   "execution_count": 24,
   "metadata": {},
   "outputs": [
    {
     "data": {
      "image/png": "[encoded data removed]",
      "text/plain": [
       "<Figure size 640x480 with 1 Axes>"
      ]
     },
     "metadata": {},
     "output_type": "display_data"
    }
   ],
   "source": [
    "churn_data['Exited'] = churn_data['Exited'].astype('category')\n",
    "churn_data['Exited'] = churn_data['Exited'].cat.rename_categories({\n",
    "    1 : 'Exited',\n",
    "    0 : 'Loyal'\n",
    "})\n",
    "\n",
    "product_exited = churn_data.groupby(['NumOfProducts', 'Exited'], as_index=False)['CustomerId'].count()\n",
    "\n",
    "barplot = sns.barplot(\n",
    "    data=product_exited,\n",
    "    x='NumOfProducts',\n",
    "    y='CustomerId',\n",
    "    hue='Exited',\n",
    "    orient='v'\n",
    ")\n",
    "barplot.set_title('Зависимость оттока клиентов от числа приобретенных продуктов', fontsize=16)\n",
    "barplot.set_xlabel('Количество продуктов у клиентов', fontsize=12);\n",
    "barplot.set_ylabel('Количество клиентов', fontsize=12);"
   ]
  },
  {
   "attachments": {},
   "cell_type": "markdown",
   "metadata": {},
   "source": [
    "*Выводы:* <br> Почти все лояльные клиенты пользуются продуктами 1 и 2, по этим категориям ушедших в категории 1 примерно 40%, а в категории 2 только 12,5 %.\n",
    "Интересная картина у 3 и 4 категорий продуктов. В услугах 3: ушедших клиентов значитально больше, чем лояльных.\n",
    "А 4ой категорией продуктов лояльные клиенты не пользуются вообще, в данной категории только ушедшие клиенты.\n",
    "Соответственно, стоит обратить внимание на продукты 3 и 4. А так же на удержание клиентов в категории продукта 1."
   ]
  },
  {
   "attachments": {},
   "cell_type": "markdown",
   "metadata": {},
   "source": [
    "##### <center>*9.8. Как влияет наличие статуса активного клиента на отток клиентов?* \n",
    "Что бы вы предложили банку, чтобы уменьшить отток клиентов среди неактивных?"
   ]
  },
  {
   "cell_type": "code",
   "execution_count": 23,
   "metadata": {},
   "outputs": [
    {
     "data": {
      "image/png": "[encoded data removed]",
      "text/plain": [
       "<Figure size 640x480 with 1 Axes>"
      ]
     },
     "metadata": {},
     "output_type": "display_data"
    }
   ],
   "source": [
    "churn_data['IsActiveMember'] = churn_data['IsActiveMember'].astype('category')\n",
    "churn_data['IsActiveMember'] = churn_data['IsActiveMember'].cat.rename_categories({\n",
    "    1 : 'Активный',\n",
    "    0 : 'Неактивный'\n",
    "})\n",
    "\n",
    "active_exited = churn_data.groupby(['IsActiveMember', 'Exited'], as_index=False)['CustomerId'].count()\n",
    "\n",
    "barplot = sns.barplot(\n",
    "    data=active_exited,\n",
    "    x='IsActiveMember',\n",
    "    y='CustomerId',\n",
    "    hue='Exited',\n",
    "    orient='v'\n",
    ")\n",
    "barplot.set_title('Влияние наличия статуса активного клиента на отток клиентов', fontsize=16)\n",
    "barplot.set_xlabel('Статус клиента', fontsize=12);\n",
    "barplot.set_ylabel('Количество клиентов', fontsize=12);"
   ]
  },
  {
   "attachments": {},
   "cell_type": "markdown",
   "metadata": {},
   "source": [
    "*Выводы:* <br>по диаграмме видно, что среди клиетов со статусом активного клиента меньше отток. Соотношение неактивных клиентов: ушедших клиентов примерно 35%, а у клиентов со статусом активный ушедших примерно 18%.\n",
    "Можно посоветовать для неативных клиентов: уменьшить или убрать годовое обслуживаниие, проводить льготные программы, повышать ставки по вкладам и депозитам, увеличивать процент кэшбека и т.д. "
   ]
  },
  {
   "attachments": {},
   "cell_type": "markdown",
   "metadata": {},
   "source": [
    "##### <center>*9.9. В какой стране доля ушедших клиентов больше?*"
   ]
  },
  {
   "cell_type": "code",
   "execution_count": 22,
   "metadata": {},
   "outputs": [
    {
     "data": {
      "application/vnd.plotly.v1+json": {
       "config": {
        "plotlyServerURL": "https://plot.ly"
       },
       "data": [
        {
         "coloraxis": "coloraxis",
         "geo": "geo",
         "hovertemplate": "Geography=%{location}<br>Exited=%{z}<extra></extra>",
         "locationmode": "country names",
         "locations": [
          "France",
          "Germany",
          "Spain"
         ],
         "name": "",
         "type": "choropleth",
         "z": [
          0.16154766653370561,
          0.32443204463929853,
          0.1667339523617279
         ]
        }
       ],
       "layout": {
        "coloraxis": {
         "cmax": 0.4,
         "cmin": 0,
         "colorbar": {
          "title": {
           "text": "Exited"
          }
         },
         "colorscale": [
          [
           0,
           "#0d0887"
          ],
          [
           0.1111111111111111,
           "#46039f"
          ],
          [
           0.2222222222222222,
           "#7201a8"
          ],
          [
           0.3333333333333333,
           "#9c179e"
          ],
          [
           0.4444444444444444,
           "#bd3786"
          ],
          [
           0.5555555555555556,
           "#d8576b"
          ],
          [
           0.6666666666666666,
           "#ed7953"
          ],
          [
           0.7777777777777778,
           "#fb9f3a"
          ],
          [
           0.8888888888888888,
           "#fdca26"
          ],
          [
           1,
           "#f0f921"
          ]
         ]
        },
        "geo": {
         "center": {},
         "domain": {
          "x": [
           0,
           1
          ],
          "y": [
           0,
           1
          ]
         }
        },
        "height": 500,
        "legend": {
         "tracegroupgap": 0
        },
        "template": {
         "data": {
          "bar": [
           {
            "error_x": {
             "color": "#2a3f5f"
            },
            "error_y": {
             "color": "#2a3f5f"
            },
            "marker": {
             "line": {
              "color": "#E5ECF6",
              "width": 0.5
             },
             "pattern": {
              "fillmode": "overlay",
              "size": 10,
              "solidity": 0.2
             }
            },
            "type": "bar"
           }
          ],
          "barpolar": [
           {
            "marker": {
             "line": {
              "color": "#E5ECF6",
              "width": 0.5
             },
             "pattern": {
              "fillmode": "overlay",
              "size": 10,
              "solidity": 0.2
             }
            },
            "type": "barpolar"
           }
          ],
          "carpet": [
           {
            "aaxis": {
             "endlinecolor": "#2a3f5f",
             "gridcolor": "white",
             "linecolor": "white",
             "minorgridcolor": "white",
             "startlinecolor": "#2a3f5f"
            },
            "baxis": {
             "endlinecolor": "#2a3f5f",
             "gridcolor": "white",
             "linecolor": "white",
             "minorgridcolor": "white",
             "startlinecolor": "#2a3f5f"
            },
            "type": "carpet"
           }
          ],
          "choropleth": [
           {
            "colorbar": {
             "outlinewidth": 0,
             "ticks": ""
            },
            "type": "choropleth"
           }
          ],
          "contour": [
           {
            "colorbar": {
             "outlinewidth": 0,
             "ticks": ""
            },
            "colorscale": [
             [
              0,
              "#0d0887"
             ],
             [
              0.1111111111111111,
              "#46039f"
             ],
             [
              0.2222222222222222,
              "#7201a8"
             ],
             [
              0.3333333333333333,
              "#9c179e"
             ],
             [
              0.4444444444444444,
              "#bd3786"
             ],
             [
              0.5555555555555556,
              "#d8576b"
             ],
             [
              0.6666666666666666,
              "#ed7953"
             ],
             [
              0.7777777777777778,
              "#fb9f3a"
             ],
             [
              0.8888888888888888,
              "#fdca26"
             ],
             [
              1,
              "#f0f921"
             ]
            ],
            "type": "contour"
           }
          ],
          "contourcarpet": [
           {
            "colorbar": {
             "outlinewidth": 0,
             "ticks": ""
            },
            "type": "contourcarpet"
           }
          ],
          "heatmap": [
           {
            "colorbar": {
             "outlinewidth": 0,
             "ticks": ""
            },
            "colorscale": [
             [
              0,
              "#0d0887"
             ],
             [
              0.1111111111111111,
              "#46039f"
             ],
             [
              0.2222222222222222,
              "#7201a8"
             ],
             [
              0.3333333333333333,
              "#9c179e"
             ],
             [
              0.4444444444444444,
              "#bd3786"
             ],
             [
              0.5555555555555556,
              "#d8576b"
             ],
             [
              0.6666666666666666,
              "#ed7953"
             ],
             [
              0.7777777777777778,
              "#fb9f3a"
             ],
             [
              0.8888888888888888,
              "#fdca26"
             ],
             [
              1,
              "#f0f921"
             ]
            ],
            "type": "heatmap"
           }
          ],
          "heatmapgl": [
           {
            "colorbar": {
             "outlinewidth": 0,
             "ticks": ""
            },
            "colorscale": [
             [
              0,
              "#0d0887"
             ],
             [
              0.1111111111111111,
              "#46039f"
             ],
             [
              0.2222222222222222,
              "#7201a8"
             ],
             [
              0.3333333333333333,
              "#9c179e"
             ],
             [
              0.4444444444444444,
              "#bd3786"
             ],
             [
              0.5555555555555556,
              "#d8576b"
             ],
             [
              0.6666666666666666,
              "#ed7953"
             ],
             [
              0.7777777777777778,
              "#fb9f3a"
             ],
             [
              0.8888888888888888,
              "#fdca26"
             ],
             [
              1,
              "#f0f921"
             ]
            ],
            "type": "heatmapgl"
           }
          ],
          "histogram": [
           {
            "marker": {
             "pattern": {
              "fillmode": "overlay",
              "size": 10,
              "solidity": 0.2
             }
            },
            "type": "histogram"
           }
          ],
          "histogram2d": [
           {
            "colorbar": {
             "outlinewidth": 0,
             "ticks": ""
            },
            "colorscale": [
             [
              0,
              "#0d0887"
             ],
             [
              0.1111111111111111,
              "#46039f"
             ],
             [
              0.2222222222222222,
              "#7201a8"
             ],
             [
              0.3333333333333333,
              "#9c179e"
             ],
             [
              0.4444444444444444,
              "#bd3786"
             ],
             [
              0.5555555555555556,
              "#d8576b"
             ],
             [
              0.6666666666666666,
              "#ed7953"
             ],
             [
              0.7777777777777778,
              "#fb9f3a"
             ],
             [
              0.8888888888888888,
              "#fdca26"
             ],
             [
              1,
              "#f0f921"
             ]
            ],
            "type": "histogram2d"
           }
          ],
          "histogram2dcontour": [
           {
            "colorbar": {
             "outlinewidth": 0,
             "ticks": ""
            },
            "colorscale": [
             [
              0,
              "#0d0887"
             ],
             [
              0.1111111111111111,
              "#46039f"
             ],
             [
              0.2222222222222222,
              "#7201a8"
             ],
             [
              0.3333333333333333,
              "#9c179e"
             ],
             [
              0.4444444444444444,
              "#bd3786"
             ],
             [
              0.5555555555555556,
              "#d8576b"
             ],
             [
              0.6666666666666666,
              "#ed7953"
             ],
             [
              0.7777777777777778,
              "#fb9f3a"
             ],
             [
              0.8888888888888888,
              "#fdca26"
             ],
             [
              1,
              "#f0f921"
             ]
            ],
            "type": "histogram2dcontour"
           }
          ],
          "mesh3d": [
           {
            "colorbar": {
             "outlinewidth": 0,
             "ticks": ""
            },
            "type": "mesh3d"
           }
          ],
          "parcoords": [
           {
            "line": {
             "colorbar": {
              "outlinewidth": 0,
              "ticks": ""
             }
            },
            "type": "parcoords"
           }
          ],
          "pie": [
           {
            "automargin": true,
            "type": "pie"
           }
          ],
          "scatter": [
           {
            "fillpattern": {
             "fillmode": "overlay",
             "size": 10,
             "solidity": 0.2
            },
            "type": "scatter"
           }
          ],
          "scatter3d": [
           {
            "line": {
             "colorbar": {
              "outlinewidth": 0,
              "ticks": ""
             }
            },
            "marker": {
             "colorbar": {
              "outlinewidth": 0,
              "ticks": ""
             }
            },
            "type": "scatter3d"
           }
          ],
          "scattercarpet": [
           {
            "marker": {
             "colorbar": {
              "outlinewidth": 0,
              "ticks": ""
             }
            },
            "type": "scattercarpet"
           }
          ],
          "scattergeo": [
           {
            "marker": {
             "colorbar": {
              "outlinewidth": 0,
              "ticks": ""
             }
            },
            "type": "scattergeo"
           }
          ],
          "scattergl": [
           {
            "marker": {
             "colorbar": {
              "outlinewidth": 0,
              "ticks": ""
             }
            },
            "type": "scattergl"
           }
          ],
          "scattermapbox": [
           {
            "marker": {
             "colorbar": {
              "outlinewidth": 0,
              "ticks": ""
             }
            },
            "type": "scattermapbox"
           }
          ],
          "scatterpolar": [
           {
            "marker": {
             "colorbar": {
              "outlinewidth": 0,
              "ticks": ""
             }
            },
            "type": "scatterpolar"
           }
          ],
          "scatterpolargl": [
           {
            "marker": {
             "colorbar": {
              "outlinewidth": 0,
              "ticks": ""
             }
            },
            "type": "scatterpolargl"
           }
          ],
          "scatterternary": [
           {
            "marker": {
             "colorbar": {
              "outlinewidth": 0,
              "ticks": ""
             }
            },
            "type": "scatterternary"
           }
          ],
          "surface": [
           {
            "colorbar": {
             "outlinewidth": 0,
             "ticks": ""
            },
            "colorscale": [
             [
              0,
              "#0d0887"
             ],
             [
              0.1111111111111111,
              "#46039f"
             ],
             [
              0.2222222222222222,
              "#7201a8"
             ],
             [
              0.3333333333333333,
              "#9c179e"
             ],
             [
              0.4444444444444444,
              "#bd3786"
             ],
             [
              0.5555555555555556,
              "#d8576b"
             ],
             [
              0.6666666666666666,
              "#ed7953"
             ],
             [
              0.7777777777777778,
              "#fb9f3a"
             ],
             [
              0.8888888888888888,
              "#fdca26"
             ],
             [
              1,
              "#f0f921"
             ]
            ],
            "type": "surface"
           }
          ],
          "table": [
           {
            "cells": {
             "fill": {
              "color": "#EBF0F8"
             },
             "line": {
              "color": "white"
             }
            },
            "header": {
             "fill": {
              "color": "#C8D4E3"
             },
             "line": {
              "color": "white"
             }
            },
            "type": "table"
           }
          ]
         },
         "layout": {
          "annotationdefaults": {
           "arrowcolor": "#2a3f5f",
           "arrowhead": 0,
           "arrowwidth": 1
          },
          "autotypenumbers": "strict",
          "coloraxis": {
           "colorbar": {
            "outlinewidth": 0,
            "ticks": ""
           }
          },
          "colorscale": {
           "diverging": [
            [
             0,
             "#8e0152"
            ],
            [
             0.1,
             "#c51b7d"
            ],
            [
             0.2,
             "#de77ae"
            ],
            [
             0.3,
             "#f1b6da"
            ],
            [
             0.4,
             "#fde0ef"
            ],
            [
             0.5,
             "#f7f7f7"
            ],
            [
             0.6,
             "#e6f5d0"
            ],
            [
             0.7,
             "#b8e186"
            ],
            [
             0.8,
             "#7fbc41"
            ],
            [
             0.9,
             "#4d9221"
            ],
            [
             1,
             "#276419"
            ]
           ],
           "sequential": [
            [
             0,
             "#0d0887"
            ],
            [
             0.1111111111111111,
             "#46039f"
            ],
            [
             0.2222222222222222,
             "#7201a8"
            ],
            [
             0.3333333333333333,
             "#9c179e"
            ],
            [
             0.4444444444444444,
             "#bd3786"
            ],
            [
             0.5555555555555556,
             "#d8576b"
            ],
            [
             0.6666666666666666,
             "#ed7953"
            ],
            [
             0.7777777777777778,
             "#fb9f3a"
            ],
            [
             0.8888888888888888,
             "#fdca26"
            ],
            [
             1,
             "#f0f921"
            ]
           ],
           "sequentialminus": [
            [
             0,
             "#0d0887"
            ],
            [
             0.1111111111111111,
             "#46039f"
            ],
            [
             0.2222222222222222,
             "#7201a8"
            ],
            [
             0.3333333333333333,
             "#9c179e"
            ],
            [
             0.4444444444444444,
             "#bd3786"
            ],
            [
             0.5555555555555556,
             "#d8576b"
            ],
            [
             0.6666666666666666,
             "#ed7953"
            ],
            [
             0.7777777777777778,
             "#fb9f3a"
            ],
            [
             0.8888888888888888,
             "#fdca26"
            ],
            [
             1,
             "#f0f921"
            ]
           ]
          },
          "colorway": [
           "#636efa",
           "#EF553B",
           "#00cc96",
           "#ab63fa",
           "#FFA15A",
           "#19d3f3",
           "#FF6692",
           "#B6E880",
           "#FF97FF",
           "#FECB52"
          ],
          "font": {
           "color": "#2a3f5f"
          },
          "geo": {
           "bgcolor": "white",
           "lakecolor": "white",
           "landcolor": "#E5ECF6",
           "showlakes": true,
           "showland": true,
           "subunitcolor": "white"
          },
          "hoverlabel": {
           "align": "left"
          },
          "hovermode": "closest",
          "mapbox": {
           "style": "light"
          },
          "paper_bgcolor": "white",
          "plot_bgcolor": "#E5ECF6",
          "polar": {
           "angularaxis": {
            "gridcolor": "white",
            "linecolor": "white",
            "ticks": ""
           },
           "bgcolor": "#E5ECF6",
           "radialaxis": {
            "gridcolor": "white",
            "linecolor": "white",
            "ticks": ""
           }
          },
          "scene": {
           "xaxis": {
            "backgroundcolor": "#E5ECF6",
            "gridcolor": "white",
            "gridwidth": 2,
            "linecolor": "white",
            "showbackground": true,
            "ticks": "",
            "zerolinecolor": "white"
           },
           "yaxis": {
            "backgroundcolor": "#E5ECF6",
            "gridcolor": "white",
            "gridwidth": 2,
            "linecolor": "white",
            "showbackground": true,
            "ticks": "",
            "zerolinecolor": "white"
           },
           "zaxis": {
            "backgroundcolor": "#E5ECF6",
            "gridcolor": "white",
            "gridwidth": 2,
            "linecolor": "white",
            "showbackground": true,
            "ticks": "",
            "zerolinecolor": "white"
           }
          },
          "shapedefaults": {
           "line": {
            "color": "#2a3f5f"
           }
          },
          "ternary": {
           "aaxis": {
            "gridcolor": "white",
            "linecolor": "white",
            "ticks": ""
           },
           "baxis": {
            "gridcolor": "white",
            "linecolor": "white",
            "ticks": ""
           },
           "bgcolor": "#E5ECF6",
           "caxis": {
            "gridcolor": "white",
            "linecolor": "white",
            "ticks": ""
           }
          },
          "title": {
           "x": 0.05
          },
          "xaxis": {
           "automargin": true,
           "gridcolor": "white",
           "linecolor": "white",
           "ticks": "",
           "title": {
            "standoff": 15
           },
           "zerolinecolor": "white",
           "zerolinewidth": 2
          },
          "yaxis": {
           "automargin": true,
           "gridcolor": "white",
           "linecolor": "white",
           "ticks": "",
           "title": {
            "standoff": 15
           },
           "zerolinecolor": "white",
           "zerolinewidth": 2
          }
         }
        },
        "title": {
         "text": "Средний отток клиентов по странам"
        },
        "width": 800
       }
      }
     },
     "metadata": {},
     "output_type": "display_data"
    }
   ],
   "source": [
    "import pandas as pd\n",
    "churn_data = pd.read_csv('data/churn.csv')\n",
    "\n",
    "churn_data = churn_data.drop(['RowNumber'], axis=1)\n",
    "\n",
    "import plotly.express as px\n",
    "\n",
    "churn_geo = churn_data.groupby('Geography', as_index=False)['Exited'].mean()\n",
    "\n",
    "fig = px.choropleth(\n",
    "    data_frame=churn_geo,\n",
    "    locations=\"Geography\",\n",
    "    locationmode = \"country names\",\n",
    "    color=\"Exited\",\n",
    "    range_color=[0, 0.4],\n",
    "    title='Доля ушедших клиентов по странам',\n",
    "    width=800, #ширина\n",
    "    height=500, #высота\n",
    "    color_continuous_scale=px.colors.sequential.Plasma\n",
    ")\n",
    "\n",
    "fig.show()"
   ]
  },
  {
   "attachments": {},
   "cell_type": "markdown",
   "metadata": {},
   "source": [
    "*Вывод:*<br> По графику видно, что в Германии отток клиентов выше в 2 раза, а в Испании и Франции отток клиентов примерно одинаков. Может быть это связано с большим количеством различных банков в Германии, что дает возможность большого выбора клиентам банков."
   ]
  },
  {
   "attachments": {},
   "cell_type": "markdown",
   "metadata": {},
   "source": [
    "##### <center>*9.10. Тепловая карта с аннотацией. Найдите на тепловой карте категории клиентов, которые уходят чаще всего.*"
   ]
  },
  {
   "cell_type": "code",
   "execution_count": 16,
   "metadata": {},
   "outputs": [
    {
     "data": {
      "image/png": "[encoded data removed]",
      "text/plain": [
       "<Figure size 640x480 with 2 Axes>"
      ]
     },
     "metadata": {},
     "output_type": "display_data"
    }
   ],
   "source": [
    "def get_credit_score_cat(credit_score):\n",
    "    if credit_score >= 300 and credit_score < 500:\n",
    "        return \"Very_Poor\"\n",
    "    elif credit_score >= 500 and credit_score < 601:\n",
    "        return \"Poor\"\n",
    "    elif credit_score >= 601 and credit_score < 661:\n",
    "        return \"Fair\"\n",
    "    elif credit_score >= 661 and credit_score < 781:\n",
    "        return \"Good\"\n",
    "    elif credit_score >= 781 and credit_score < 851:\n",
    "        return \"Excellent\"\n",
    "    elif credit_score >= 851:\n",
    "        return \"Top\"\n",
    "    elif credit_score < 300:\n",
    "        return \"Deep\"\n",
    "\n",
    "churn_data['CreditScoreCat'] = churn_data['CreditScore'].apply(get_credit_score_cat)\n",
    "\n",
    "pivot1=churn_data.pivot_table(\n",
    "values='Exited',\n",
    "index='CreditScoreCat',\n",
    "columns='Tenure',\n",
    "aggfunc='mean')\n",
    "\n",
    "fig = plt.figure()\n",
    "ax = sns.heatmap(data=pivot1, annot=True, cmap='OrRd');\n",
    "ax.set_title('Зависимость оттока клиентов от кредитного рейтинга и числа лет сотрудничества');"
   ]
  },
  {
   "attachments": {},
   "cell_type": "markdown",
   "metadata": {},
   "source": [
    "*Вывод:* <br>\n",
    "самый большой отток клиентов с кредитным рейтингом Very_Poor, которые пользуются услугами банка меньше года и 10 лет.\n",
    "Так же стоит обратить внимание на клиентов рейтинга Very_Poor, которые пользуются услугами банка 3-4 года, и на клиентов с рейтингом Excellent, которые пользуются услугами первый год и 9-10 год.\n"
   ]
  }
 ],
 "metadata": {
  "kernelspec": {
   "display_name": "Python 3.9.11 64-bit",
   "language": "python",
   "name": "python3"
  },
  "language_info": {
   "codemirror_mode": {
    "name": "ipython",
    "version": 3
   },
   "file_extension": ".py",
   "mimetype": "text/x-python",
   "name": "python",
   "nbconvert_exporter": "python",
   "pygments_lexer": "ipython3",
   "version": "3.9.11"
  },
  "orig_nbformat": 4,
  "vscode": {
   "interpreter": {
    "hash": "81794d4967e6c3204c66dcd87b604927b115b27c00565d3d43f05ba2f3a2cb0d"
   }
  }
 },
 "nbformat": 4,
 "nbformat_minor": 2
}
